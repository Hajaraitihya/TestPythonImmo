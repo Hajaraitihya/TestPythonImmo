{
 "cells": [
  {
   "cell_type": "code",
   "execution_count": 1,
   "metadata": {},
   "outputs": [],
   "source": [
    "import os, sys\n",
    "os.environ.setdefault(\"DJANGO_SETTINGS_MODULE\", \"config.settings\")\n",
    "import django\n",
    "django.setup()"
   ]
  },
  {
   "cell_type": "code",
   "execution_count": 2,
   "metadata": {},
   "outputs": [],
   "source": [
    "os.environ[\"DJANGO_ALLOW_ASYNC_UNSAFE\"] = \"true\""
   ]
  },
  {
   "cell_type": "code",
   "execution_count": null,
   "metadata": {},
   "outputs": [],
   "source": [
    "import django\n",
    "django.setup()"
   ]
  },
  {
   "cell_type": "markdown",
   "metadata": {},
   "source": [
    "## TACHE 3"
   ]
  },
  {
   "cell_type": "markdown",
   "metadata": {},
   "source": [
    "##"
   ]
  },
  {
   "cell_type": "code",
   "execution_count": 3,
   "metadata": {},
   "outputs": [],
   "source": [
    "from PromgrammeImmo.models import Appartement, Programme,Caracteristique"
   ]
  },
  {
   "cell_type": "code",
   "execution_count": 4,
   "metadata": {},
   "outputs": [],
   "source": [
    "queryset=Appartement.objects.filter(Id_programme__actif=True).values()"
   ]
  },
  {
   "cell_type": "code",
   "execution_count": 5,
   "metadata": {},
   "outputs": [
    {
     "data": {
      "text/plain": [
       "<QuerySet [{'id': 1, 'prix': 180000.0, 'surface': 33.0, 'nombre_piece': 2, 'Id_programme_id': 1}, {'id': 2, 'prix': 180000.0, 'surface': 33.0, 'nombre_piece': 2, 'Id_programme_id': 1}, {'id': 3, 'prix': 180000.0, 'surface': 33.0, 'nombre_piece': 2, 'Id_programme_id': 1}, {'id': 4, 'prix': 180000.0, 'surface': 33.0, 'nombre_piece': 2, 'Id_programme_id': 1}, {'id': 6, 'prix': 180000.0, 'surface': 33.0, 'nombre_piece': 2, 'Id_programme_id': 1}]>"
      ]
     },
     "execution_count": 5,
     "metadata": {},
     "output_type": "execute_result"
    }
   ],
   "source": [
    "queryset"
   ]
  },
  {
   "cell_type": "code",
   "execution_count": 12,
   "metadata": {},
   "outputs": [],
   "source": [
    "def getAppartprix():\n",
    "    queryset=Appartement.objects.filter(Q(prix__lte=180000) , Q(prix__gte=100000)).values()\n",
    "    return queryset"
   ]
  },
  {
   "cell_type": "code",
   "execution_count": 8,
   "metadata": {},
   "outputs": [],
   "source": [
    "from django.db.models import Q"
   ]
  },
  {
   "cell_type": "code",
   "execution_count": 33,
   "metadata": {},
   "outputs": [],
   "source": [
    "from django.db.models import F"
   ]
  },
  {
   "cell_type": "code",
   "execution_count": 13,
   "metadata": {},
   "outputs": [],
   "source": [
    "s=getAppartprix()"
   ]
  },
  {
   "cell_type": "code",
   "execution_count": 14,
   "metadata": {},
   "outputs": [
    {
     "name": "stdout",
     "output_type": "stream",
     "text": [
      "<QuerySet [{'id': 1, 'prix': 180000.0, 'surface': 33.0, 'nombre_piece': 2, 'Id_programme_id': 1}, {'id': 2, 'prix': 180000.0, 'surface': 33.0, 'nombre_piece': 2, 'Id_programme_id': 1}, {'id': 3, 'prix': 180000.0, 'surface': 33.0, 'nombre_piece': 2, 'Id_programme_id': 1}, {'id': 4, 'prix': 180000.0, 'surface': 33.0, 'nombre_piece': 2, 'Id_programme_id': 1}, {'id': 6, 'prix': 180000.0, 'surface': 33.0, 'nombre_piece': 2, 'Id_programme_id': 1}, {'id': 7, 'prix': 180000.0, 'surface': 33.0, 'nombre_piece': 2, 'Id_programme_id': 4}, {'id': 8, 'prix': 180000.0, 'surface': 33.0, 'nombre_piece': 2, 'Id_programme_id': 4}]>\n"
     ]
    }
   ],
   "source": [
    "print(s)"
   ]
  },
  {
   "cell_type": "code",
   "execution_count": 28,
   "metadata": {},
   "outputs": [],
   "source": [
    "def getProgrammesPiscine():\n",
    "    queryset=Appartement.objects.filter(caracteristiques__description=\"piscine\").values_list('Id_programme').distinct()\n",
    "    return queryset"
   ]
  },
  {
   "cell_type": "code",
   "execution_count": 29,
   "metadata": {},
   "outputs": [],
   "source": [
    "pro=getProgrammesPiscine()"
   ]
  },
  {
   "cell_type": "code",
   "execution_count": 30,
   "metadata": {},
   "outputs": [
    {
     "name": "stdout",
     "output_type": "stream",
     "text": [
      "<QuerySet [(1,), (4,)]>\n"
     ]
    }
   ],
   "source": [
    "print(pro)"
   ]
  },
  {
   "cell_type": "code",
   "execution_count": 116,
   "metadata": {},
   "outputs": [],
   "source": [
    "from django.db.models import CharField, Value, When, Case\n",
    "from django.db import models "
   ]
  },
  {
   "cell_type": "code",
   "execution_count": null,
   "metadata": {},
   "outputs": [],
   "source": [
    "from "
   ]
  },
  {
   "cell_type": "code",
   "execution_count": 70,
   "metadata": {},
   "outputs": [],
   "source": [
    "from django.db.models.functions import Concat"
   ]
  },
  {
   "cell_type": "code",
   "execution_count": 72,
   "metadata": {},
   "outputs": [],
   "source": [
    "def getApparts(code=\"\"):\n",
    "    if code==\"PERE NOEL\":\n",
    "        queryset=Appartement.objects.annotate(prix_bas=(F('prix')-(F('prix')*5)/100)).annotate(libelle_programme=Concat(F('Id_programme__name'), models.Value('Promo Special '), output_field=CharField())).values()\n",
    "        return queryset\n",
    "    else:\n",
    "        return Appartement.objects.all().values()"
   ]
  },
  {
   "cell_type": "code",
   "execution_count": 73,
   "metadata": {},
   "outputs": [],
   "source": [
    "listp=getApparts(\"PERE NOEL\")"
   ]
  },
  {
   "cell_type": "code",
   "execution_count": 74,
   "metadata": {},
   "outputs": [
    {
     "data": {
      "text/plain": [
       "<QuerySet [{'id': 1, 'prix': 180000.0, 'surface': 33.0, 'nombre_piece': 2, 'Id_programme_id': 1, 'prix_bas': 171000.0, 'libelle_programme': 'XXXPromo Special '}, {'id': 2, 'prix': 180000.0, 'surface': 33.0, 'nombre_piece': 2, 'Id_programme_id': 1, 'prix_bas': 171000.0, 'libelle_programme': 'XXXPromo Special '}, {'id': 3, 'prix': 180000.0, 'surface': 33.0, 'nombre_piece': 2, 'Id_programme_id': 1, 'prix_bas': 171000.0, 'libelle_programme': 'XXXPromo Special '}, {'id': 4, 'prix': 180000.0, 'surface': 33.0, 'nombre_piece': 2, 'Id_programme_id': 1, 'prix_bas': 171000.0, 'libelle_programme': 'XXXPromo Special '}, {'id': 6, 'prix': 180000.0, 'surface': 33.0, 'nombre_piece': 2, 'Id_programme_id': 1, 'prix_bas': 171000.0, 'libelle_programme': 'XXXPromo Special '}, {'id': 7, 'prix': 180000.0, 'surface': 33.0, 'nombre_piece': 2, 'Id_programme_id': 4, 'prix_bas': 171000.0, 'libelle_programme': 'XXXPromo Special '}, {'id': 8, 'prix': 180000.0, 'surface': 33.0, 'nombre_piece': 2, 'Id_programme_id': 4, 'prix_bas': 171000.0, 'libelle_programme': 'XXXPromo Special '}]>"
      ]
     },
     "execution_count": 74,
     "metadata": {},
     "output_type": "execute_result"
    }
   ],
   "source": [
    "listp"
   ]
  },
  {
   "cell_type": "code",
   "execution_count": 75,
   "metadata": {},
   "outputs": [],
   "source": [
    "listpwithout=getApparts()"
   ]
  },
  {
   "cell_type": "code",
   "execution_count": 76,
   "metadata": {},
   "outputs": [
    {
     "data": {
      "text/plain": [
       "<QuerySet [{'id': 1, 'prix': 180000.0, 'surface': 33.0, 'nombre_piece': 2, 'Id_programme_id': 1}, {'id': 2, 'prix': 180000.0, 'surface': 33.0, 'nombre_piece': 2, 'Id_programme_id': 1}, {'id': 3, 'prix': 180000.0, 'surface': 33.0, 'nombre_piece': 2, 'Id_programme_id': 1}, {'id': 4, 'prix': 180000.0, 'surface': 33.0, 'nombre_piece': 2, 'Id_programme_id': 1}, {'id': 6, 'prix': 180000.0, 'surface': 33.0, 'nombre_piece': 2, 'Id_programme_id': 1}, {'id': 7, 'prix': 180000.0, 'surface': 33.0, 'nombre_piece': 2, 'Id_programme_id': 4}, {'id': 8, 'prix': 180000.0, 'surface': 33.0, 'nombre_piece': 2, 'Id_programme_id': 4}]>"
      ]
     },
     "execution_count": 76,
     "metadata": {},
     "output_type": "execute_result"
    }
   ],
   "source": [
    "listpwithout"
   ]
  },
  {
   "cell_type": "code",
   "execution_count": 83,
   "metadata": {},
   "outputs": [],
   "source": [
    "def getseasonToday():\n",
    "    doy = datetime.date.today().timetuple().tm_yday\n",
    "    # \"day of year\" ranges for the northern hemisphere\n",
    "    spring = range(80, 172)\n",
    "    summer = range(172, 264)\n",
    "    fall = range(264, 355)\n",
    "    # winter = everything else\n",
    "\n",
    "    if doy in spring:\n",
    "        season = 'spring'\n",
    "    elif doy in summer:\n",
    "        season = 'summer'\n",
    "    elif doy in fall:\n",
    "        season = 'fall'\n",
    "    else:\n",
    "        season = 'winter'\n",
    "    return season"
   ]
  },
  {
   "cell_type": "code",
   "execution_count": 86,
   "metadata": {},
   "outputs": [],
   "source": [
    "def getAppartsParOrdre():\n",
    "    if getseasonToday()=='winter':\n",
    "        queryset=Appartement.objects.annotate(ski=Case(When(caracteristiques__description=\"proche station ski\",then=Value(1)),default=Value(2),output_field=models.IntegerField())).order_by('ski','-prix','-surface').values()\n",
    "        return queryset\n",
    "    elif getseasonToday()=='summer':\n",
    "        queryset=Appartement.objects.annotate(piscine=Case(When(caracteristiques__description=\"piscine\",then=Value(1)),default=Value(2),output_field=models.IntegerField())).order_by('piscine','-prix','-surface').values()\n",
    "        return queryset\n",
    "    else:\n",
    "        queryset=Appartement.objects.all().order_by('-prix','-surface').values()\n",
    "        return queryset"
   ]
  },
  {
   "cell_type": "code",
   "execution_count": 87,
   "metadata": {},
   "outputs": [],
   "source": [
    "apparts=getAppartsParOrdre()"
   ]
  },
  {
   "cell_type": "code",
   "execution_count": null,
   "metadata": {},
   "outputs": [],
   "source": []
  },
  {
   "cell_type": "code",
   "execution_count": 88,
   "metadata": {},
   "outputs": [
    {
     "data": {
      "text/plain": [
       "<QuerySet [{'id': 1, 'prix': 180000.0, 'surface': 33.0, 'nombre_piece': 2, 'Id_programme_id': 1}, {'id': 2, 'prix': 180000.0, 'surface': 33.0, 'nombre_piece': 2, 'Id_programme_id': 1}, {'id': 3, 'prix': 180000.0, 'surface': 33.0, 'nombre_piece': 2, 'Id_programme_id': 1}, {'id': 4, 'prix': 180000.0, 'surface': 33.0, 'nombre_piece': 2, 'Id_programme_id': 1}, {'id': 6, 'prix': 180000.0, 'surface': 33.0, 'nombre_piece': 2, 'Id_programme_id': 1}, {'id': 7, 'prix': 180000.0, 'surface': 33.0, 'nombre_piece': 2, 'Id_programme_id': 4}, {'id': 8, 'prix': 180000.0, 'surface': 33.0, 'nombre_piece': 2, 'Id_programme_id': 4}]>"
      ]
     },
     "execution_count": 88,
     "metadata": {},
     "output_type": "execute_result"
    }
   ],
   "source": [
    "apparts"
   ]
  },
  {
   "cell_type": "code",
   "execution_count": null,
   "metadata": {},
   "outputs": [],
   "source": []
  },
  {
   "cell_type": "code",
   "execution_count": 133,
   "metadata": {},
   "outputs": [],
   "source": [
    "from django.db.models.functions import Coalesce"
   ]
  },
  {
   "cell_type": "code",
   "execution_count": 172,
   "metadata": {},
   "outputs": [],
   "source": [
    "results=Appartement.objects.annotate(ski=Case(When(caracteristiques__description=\"proche station ski\",then=Value(1)),default=Value(2),output_field=models.IntegerField())).order_by('ski','-prix','-surface').values()"
   ]
  },
  {
   "cell_type": "code",
   "execution_count": 173,
   "metadata": {},
   "outputs": [
    {
     "data": {
      "text/plain": [
       "<QuerySet [{'id': 3, 'prix': 180000.0, 'surface': 33.0, 'nombre_piece': 2, 'Id_programme_id': 1, 'ski': 1}, {'id': 7, 'prix': 180000.0, 'surface': 33.0, 'nombre_piece': 2, 'Id_programme_id': 4, 'ski': 1}, {'id': 8, 'prix': 180000.0, 'surface': 33.0, 'nombre_piece': 2, 'Id_programme_id': 4, 'ski': 1}, {'id': 1, 'prix': 180000.0, 'surface': 33.0, 'nombre_piece': 2, 'Id_programme_id': 1, 'ski': 2}, {'id': 2, 'prix': 180000.0, 'surface': 33.0, 'nombre_piece': 2, 'Id_programme_id': 1, 'ski': 2}, {'id': 4, 'prix': 180000.0, 'surface': 33.0, 'nombre_piece': 2, 'Id_programme_id': 1, 'ski': 2}, {'id': 6, 'prix': 180000.0, 'surface': 33.0, 'nombre_piece': 2, 'Id_programme_id': 1, 'ski': 2}, {'id': 8, 'prix': 180000.0, 'surface': 33.0, 'nombre_piece': 2, 'Id_programme_id': 4, 'ski': 2}]>"
      ]
     },
     "execution_count": 173,
     "metadata": {},
     "output_type": "execute_result"
    }
   ],
   "source": [
    "results"
   ]
  },
  {
   "cell_type": "code",
   "execution_count": 175,
   "metadata": {},
   "outputs": [],
   "source": [
    "results=Appartement.objects.annotate(piscine=Case(When(caracteristiques__description=\"piscine\",then=Value(1)),default=Value(2),output_field=models.IntegerField())).order_by('piscine','-prix','-surface').values()"
   ]
  },
  {
   "cell_type": "code",
   "execution_count": 176,
   "metadata": {},
   "outputs": [
    {
     "data": {
      "text/plain": [
       "<QuerySet [{'id': 4, 'prix': 180000.0, 'surface': 33.0, 'nombre_piece': 2, 'Id_programme_id': 1, 'piscine': 1}, {'id': 6, 'prix': 180000.0, 'surface': 33.0, 'nombre_piece': 2, 'Id_programme_id': 1, 'piscine': 1}, {'id': 8, 'prix': 180000.0, 'surface': 33.0, 'nombre_piece': 2, 'Id_programme_id': 4, 'piscine': 1}, {'id': 1, 'prix': 180000.0, 'surface': 33.0, 'nombre_piece': 2, 'Id_programme_id': 1, 'piscine': 2}, {'id': 2, 'prix': 180000.0, 'surface': 33.0, 'nombre_piece': 2, 'Id_programme_id': 1, 'piscine': 2}, {'id': 3, 'prix': 180000.0, 'surface': 33.0, 'nombre_piece': 2, 'Id_programme_id': 1, 'piscine': 2}, {'id': 7, 'prix': 180000.0, 'surface': 33.0, 'nombre_piece': 2, 'Id_programme_id': 4, 'piscine': 2}, {'id': 8, 'prix': 180000.0, 'surface': 33.0, 'nombre_piece': 2, 'Id_programme_id': 4, 'piscine': 2}]>"
      ]
     },
     "execution_count": 176,
     "metadata": {},
     "output_type": "execute_result"
    }
   ],
   "source": [
    "results"
   ]
  },
  {
   "cell_type": "code",
   "execution_count": null,
   "metadata": {},
   "outputs": [],
   "source": []
  }
 ],
 "metadata": {
  "kernelspec": {
   "display_name": "Python 3",
   "language": "python",
   "name": "python3"
  },
  "language_info": {
   "codemirror_mode": {
    "name": "ipython",
    "version": 3
   },
   "file_extension": ".py",
   "mimetype": "text/x-python",
   "name": "python",
   "nbconvert_exporter": "python",
   "pygments_lexer": "ipython3",
   "version": "3.8.5"
  }
 },
 "nbformat": 4,
 "nbformat_minor": 4
}
